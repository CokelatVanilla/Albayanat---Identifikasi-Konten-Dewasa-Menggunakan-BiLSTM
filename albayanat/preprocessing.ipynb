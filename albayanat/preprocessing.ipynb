{
 "cells": [
  {
   "cell_type": "code",
   "execution_count": 19,
   "metadata": {
    "colab": {},
    "colab_type": "code",
    "id": "ulhHJyAnAJ_v"
   },
   "outputs": [],
   "source": [
    "from nltk import word_tokenize, sent_tokenize\n",
    "from nltk.corpus import stopwords\n",
    "import re\n",
    "import string\n",
    "import unicodedata\n",
    "import nltk\n",
    "import pandas as pd\n",
    "import xlsxwriter\n",
    "import numpy as np"
   ]
  },
  {
   "cell_type": "code",
   "execution_count": 38,
   "metadata": {
    "colab": {},
    "colab_type": "code",
    "id": "pbFGq5rqAJ_0"
   },
   "outputs": [],
   "source": [
    "def remove_url(str):\n",
    "    str = re.sub(r'(?i)\\b((?:https?://|www\\d{0,3}[.]|[a-z0-9.\\-]+[.][a-z]{2,4}/)(?:[^\\s()<>]+|\\(([^\\s()<>]+|(\\([^\\s()<>]+\\)))*\\))+(?:\\(([^\\s()<>]+|(\\([^\\s()<>]+\\)))*\\)|[^\\s`!()\\[\\]{};:\\'\".,<>?«»“”‘’]))', '', str)\n",
    "    return str\n",
    "    \n",
    "def remove_digit(str):\n",
    "    str = re.sub(' [^a-zA-Z] ', '', str)\n",
    "    return str \n",
    "\n",
    "def remove_non_ascii(str):\n",
    "    str = unicodedata.normalize('NFKD', str).encode('ascii', 'ignore').decode('utf-8', 'ignore')\n",
    "    return str\n",
    "\n",
    "def remove_twitter_char(str):  \n",
    "    # mention\n",
    "    str = re.sub(r'(?:@[\\w_]+)', ' ', str)\n",
    "    # hashtag\n",
    "    str = re.sub(r\"(?:\\#+[\\w_]+[\\w\\'_\\-]*[\\w_]+)\", \" \", str)\n",
    "    # RT/cc\n",
    "    str = re.sub('RT', ' ', str)\n",
    "\n",
    "    return str\n",
    "\n",
    "def remove_punctuation(str):\n",
    "    str = re.sub(r'[^\\s\\w]', ' ', str)\n",
    "    return str\n",
    "\n",
    "def remove_multi_space(str):\n",
    "    str = re.sub('[\\s]+', ' ', str)\n",
    "    return str\n",
    "\n",
    "def casefolding(str):  \n",
    "    str = str.lower()   \n",
    "    return ' '.join(str.split())\n",
    "\n",
    "def remove_repeated_character(str):\n",
    "    str = re.sub(r'(.)\\1{2,}', r'\\1', str)\n",
    "    return str\n",
    "\n",
    "def normalize_slang_word(str):\n",
    "    text_list = str.split(' ')\n",
    "    slang_words_raw = pd.read_csv('data/add/slang_word_list.csv', sep=',', header=None)\n",
    "    slang_word_dict = {}\n",
    "\n",
    "    for item in slang_words_raw.values:\n",
    "        slang_word_dict[item[0]] = item[1]\n",
    "\n",
    "        for index in range(len(text_list)):\n",
    "            if text_list[index] in slang_word_dict.keys():\n",
    "                text_list[index] = slang_word_dict[text_list[index]]\n",
    "\n",
    "    return ' '.join(text_list)\n",
    "\n",
    "def remove_laugh(str):\n",
    "    str = re.sub(r\"\\b(?:(h|a|e)*(?:(ha|he|hue))+h?|(?:l+o+)+l+)|(?:(w|k)*(?:wk)+(w?|k?))\\b\", ' ', str)\n",
    "    \n",
    "    return str\n",
    "\n",
    "def remove_unused_char(str):\n",
    "    tmp = \"\"    \n",
    "    if len(str) < 3:\n",
    "        tmp\n",
    "    else:\n",
    "        tmp = str\n",
    "        \n",
    "    return tmp"
   ]
  },
  {
   "cell_type": "code",
   "execution_count": 39,
   "metadata": {
    "colab": {},
    "colab_type": "code",
    "id": "PQveRqv4AJ_3"
   },
   "outputs": [],
   "source": [
    "def preprocessing(str):\n",
    "    str = remove_digit(str)\n",
    "    str = remove_url(str)\n",
    "    str = remove_twitter_char(str)    \n",
    "    str = remove_non_ascii(str)\n",
    "    str = remove_punctuation(str)\n",
    "    str = remove_laugh(str)\n",
    "    str = remove_multi_space(str) \n",
    "    str = remove_repeated_character(str)    \n",
    "    str = casefolding(str)\n",
    "    str = normalize_slang_word(str)\n",
    "    str = remove_unused_char(str)\n",
    "    \n",
    "    return str"
   ]
  },
  {
   "cell_type": "code",
   "execution_count": 22,
   "metadata": {},
   "outputs": [
    {
     "data": {
      "text/plain": [
       "' '"
      ]
     },
     "execution_count": 22,
     "metadata": {},
     "output_type": "execute_result"
    }
   ],
   "source": [
    "kalimat = \"https://t.co/zYfZZB8Iqy https://t.co/kP9zpSRatQ\"\n",
    "remove_url(kalimat)"
   ]
  },
  {
   "cell_type": "code",
   "execution_count": 23,
   "metadata": {
    "colab": {
     "base_uri": "https://localhost:8080/",
     "height": 54
    },
    "colab_type": "code",
    "executionInfo": {
     "elapsed": 897,
     "status": "ok",
     "timestamp": 1568620362544,
     "user": {
      "displayName": "ANISA MILADYA HAKIM -",
      "photoUrl": "https://lh3.googleusercontent.com/a-/AAuE7mAxiDFPChsKSUff6d_ZwtaHRXcazNCoPnwSRHwN=s64",
      "userId": "03112180736924655103"
     },
     "user_tz": -420
    },
    "id": "OtiyS2fFAJ_7",
    "outputId": "6fc51478-866d-4760-ee5f-4ccfd27190ae"
   },
   "outputs": [
    {
     "data": {
      "text/plain": [
       "'@sabistriming: huehuehueh 3 Episode kali ini ada @frizareihan yang bakal cerita tentang pengalaman ngerinya nih! Simaaaaak! Gue menyesal setelah terjatuh wkwwkwk  .. ð\\x9f\\x91\\x8d'"
      ]
     },
     "execution_count": 23,
     "metadata": {},
     "output_type": "execute_result"
    }
   ],
   "source": [
    "kalimat = \"@sabistriming: huehuehueh 3 Episode kali ini ada @frizareihan yang bakal cerita tentang pengalaman ngerinya nih! Simaaaaak! Gue menyesal setelah terjatuh wkwwkwk https://t.co/bLhzV4Tqdl .. \\xf0\\x9f\\x91\\x8d\"\n",
    "remove_url(kalimat)"
   ]
  },
  {
   "cell_type": "code",
   "execution_count": 24,
   "metadata": {
    "colab": {
     "base_uri": "https://localhost:8080/",
     "height": 54
    },
    "colab_type": "code",
    "executionInfo": {
     "elapsed": 822,
     "status": "ok",
     "timestamp": 1568620363049,
     "user": {
      "displayName": "ANISA MILADYA HAKIM -",
      "photoUrl": "https://lh3.googleusercontent.com/a-/AAuE7mAxiDFPChsKSUff6d_ZwtaHRXcazNCoPnwSRHwN=s64",
      "userId": "03112180736924655103"
     },
     "user_tz": -420
    },
    "id": "SKHajJdvAKAA",
    "outputId": "3b78cf0f-a115-4e5d-b6a9-50ac7d969a33"
   },
   "outputs": [
    {
     "data": {
      "text/plain": [
       "' : huehuehueh 3 Episode kali ini ada   yang bakal cerita tentang pengalaman ngerinya nih! Simaaaaak! Gue menyesal setelah terjatuh wkwwkwk  .. ð\\x9f\\x91\\x8d'"
      ]
     },
     "execution_count": 24,
     "metadata": {},
     "output_type": "execute_result"
    }
   ],
   "source": [
    "kalimat = \"@sabistriming: huehuehueh 3 Episode kali ini ada @frizareihan yang bakal cerita tentang pengalaman ngerinya nih! Simaaaaak! Gue menyesal setelah terjatuh wkwwkwk  .. ð\\x9f\\x91\\x8d\"\n",
    "remove_twitter_char(kalimat)"
   ]
  },
  {
   "cell_type": "code",
   "execution_count": 25,
   "metadata": {
    "colab": {
     "base_uri": "https://localhost:8080/",
     "height": 54
    },
    "colab_type": "code",
    "executionInfo": {
     "elapsed": 744,
     "status": "ok",
     "timestamp": 1568620363572,
     "user": {
      "displayName": "ANISA MILADYA HAKIM -",
      "photoUrl": "https://lh3.googleusercontent.com/a-/AAuE7mAxiDFPChsKSUff6d_ZwtaHRXcazNCoPnwSRHwN=s64",
      "userId": "03112180736924655103"
     },
     "user_tz": -420
    },
    "id": "P6nCzaCRAKAE",
    "outputId": "a9524442-78b9-41cc-9dd8-2dbb0e3951a8"
   },
   "outputs": [
    {
     "data": {
      "text/plain": [
       "' : huehuehueh   Episode kali ini ada   yang bakal cerita tentang pengalaman ngerinya nih! Simaaaaak! Gue menyesal setelah terjatuh wkwwkwk  .. ð\\x9f\\x91\\x8d'"
      ]
     },
     "execution_count": 25,
     "metadata": {},
     "output_type": "execute_result"
    }
   ],
   "source": [
    "kalimat = \" : huehuehueh 3 Episode kali ini ada   yang bakal cerita tentang pengalaman ngerinya nih! Simaaaaak! Gue menyesal setelah terjatuh wkwwkwk  .. ð\\x9f\\x91\\x8d\"\n",
    "remove_digit(kalimat)"
   ]
  },
  {
   "cell_type": "code",
   "execution_count": 26,
   "metadata": {
    "colab": {
     "base_uri": "https://localhost:8080/",
     "height": 54
    },
    "colab_type": "code",
    "executionInfo": {
     "elapsed": 777,
     "status": "ok",
     "timestamp": 1568620364272,
     "user": {
      "displayName": "ANISA MILADYA HAKIM -",
      "photoUrl": "https://lh3.googleusercontent.com/a-/AAuE7mAxiDFPChsKSUff6d_ZwtaHRXcazNCoPnwSRHwN=s64",
      "userId": "03112180736924655103"
     },
     "user_tz": -420
    },
    "id": "jgUqzNY3AKAH",
    "outputId": "e774872a-0c19-4e5d-b9be-3102565033bc"
   },
   "outputs": [
    {
     "data": {
      "text/plain": [
       "' : huehuehueh   Episode kali ini ada   yang bakal cerita tentang pengalaman ngerinya nih! Simaaaaak! Gue menyesal setelah terjatuh wkwwkwk  .. '"
      ]
     },
     "execution_count": 26,
     "metadata": {},
     "output_type": "execute_result"
    }
   ],
   "source": [
    "kalimat = \" : huehuehueh   Episode kali ini ada   yang bakal cerita tentang pengalaman ngerinya nih! Simaaaaak! Gue menyesal setelah terjatuh wkwwkwk  .. ð\\x9f\\x91\\x8d\"\n",
    "remove_non_ascii(kalimat)"
   ]
  },
  {
   "cell_type": "code",
   "execution_count": 27,
   "metadata": {
    "colab": {
     "base_uri": "https://localhost:8080/",
     "height": 54
    },
    "colab_type": "code",
    "executionInfo": {
     "elapsed": 756,
     "status": "ok",
     "timestamp": 1568620364804,
     "user": {
      "displayName": "ANISA MILADYA HAKIM -",
      "photoUrl": "https://lh3.googleusercontent.com/a-/AAuE7mAxiDFPChsKSUff6d_ZwtaHRXcazNCoPnwSRHwN=s64",
      "userId": "03112180736924655103"
     },
     "user_tz": -420
    },
    "id": "3sn_6_S4AKAK",
    "outputId": "1223ad16-6c76-4371-e249-6514372b5958"
   },
   "outputs": [
    {
     "data": {
      "text/plain": [
       "'   huehuehueh   Episode kali ini ada   yang bakal cerita tentang pengalaman ngerinya nih  Simaaaaak  Gue menyesal setelah terjatuh wkwwkwk     '"
      ]
     },
     "execution_count": 27,
     "metadata": {},
     "output_type": "execute_result"
    }
   ],
   "source": [
    "kalimat = \" : huehuehueh   Episode kali ini ada   yang bakal cerita tentang pengalaman ngerinya nih! Simaaaaak! Gue menyesal setelah terjatuh wkwwkwk  .. \"\n",
    "remove_punctuation(kalimat)"
   ]
  },
  {
   "cell_type": "code",
   "execution_count": 28,
   "metadata": {
    "colab": {
     "base_uri": "https://localhost:8080/",
     "height": 54
    },
    "colab_type": "code",
    "executionInfo": {
     "elapsed": 798,
     "status": "ok",
     "timestamp": 1568620365571,
     "user": {
      "displayName": "ANISA MILADYA HAKIM -",
      "photoUrl": "https://lh3.googleusercontent.com/a-/AAuE7mAxiDFPChsKSUff6d_ZwtaHRXcazNCoPnwSRHwN=s64",
      "userId": "03112180736924655103"
     },
     "user_tz": -420
    },
    "id": "y6sDSlfxAKAO",
    "outputId": "bc62faf6-384c-4c6b-8d13-923710735e05"
   },
   "outputs": [
    {
     "data": {
      "text/plain": [
       "'       Episode kali ini ada   yang bakal cerita tentang pengalaman ngerinya nih  Simaaaaak  Gue menyesal setelah terjatuh       '"
      ]
     },
     "execution_count": 28,
     "metadata": {},
     "output_type": "execute_result"
    }
   ],
   "source": [
    "kalimat = \"   huehuehueh   Episode kali ini ada   yang bakal cerita tentang pengalaman ngerinya nih  Simaaaaak  Gue menyesal setelah terjatuh wkwwkwk     \"\n",
    "remove_laugh(kalimat)"
   ]
  },
  {
   "cell_type": "code",
   "execution_count": 29,
   "metadata": {
    "colab": {
     "base_uri": "https://localhost:8080/",
     "height": 34
    },
    "colab_type": "code",
    "executionInfo": {
     "elapsed": 1233,
     "status": "ok",
     "timestamp": 1568620366736,
     "user": {
      "displayName": "ANISA MILADYA HAKIM -",
      "photoUrl": "https://lh3.googleusercontent.com/a-/AAuE7mAxiDFPChsKSUff6d_ZwtaHRXcazNCoPnwSRHwN=s64",
      "userId": "03112180736924655103"
     },
     "user_tz": -420
    },
    "id": "bQQlO5mJAKAQ",
    "outputId": "c7a6ddcc-771d-47bc-99c4-b50d4e2f631b"
   },
   "outputs": [
    {
     "data": {
      "text/plain": [
       "' Episode kali ini ada yang bakal cerita tentang pengalaman ngerinya nih Simaaaaak Gue menyesal setelah terjatuh '"
      ]
     },
     "execution_count": 29,
     "metadata": {},
     "output_type": "execute_result"
    }
   ],
   "source": [
    "kalimat = \"       Episode kali ini ada   yang bakal cerita tentang pengalaman ngerinya nih  Simaaaaak  Gue menyesal setelah terjatuh       \"\n",
    "remove_multi_space(kalimat)"
   ]
  },
  {
   "cell_type": "code",
   "execution_count": 30,
   "metadata": {
    "colab": {
     "base_uri": "https://localhost:8080/",
     "height": 34
    },
    "colab_type": "code",
    "executionInfo": {
     "elapsed": 665,
     "status": "ok",
     "timestamp": 1568620366739,
     "user": {
      "displayName": "ANISA MILADYA HAKIM -",
      "photoUrl": "https://lh3.googleusercontent.com/a-/AAuE7mAxiDFPChsKSUff6d_ZwtaHRXcazNCoPnwSRHwN=s64",
      "userId": "03112180736924655103"
     },
     "user_tz": -420
    },
    "id": "RnObwFAfAKAT",
    "outputId": "fb9122a4-878f-4f8e-a5cc-762b321a0b95"
   },
   "outputs": [
    {
     "data": {
      "text/plain": [
       "' Episode kali ini ada yang bakal cerita tentang pengalaman ngerinya nih Simak Gue menyesal setelah terjatuh '"
      ]
     },
     "execution_count": 30,
     "metadata": {},
     "output_type": "execute_result"
    }
   ],
   "source": [
    "kalimat = \" Episode kali ini ada yang bakal cerita tentang pengalaman ngerinya nih Simaaaaak Gue menyesal setelah terjatuh \"\n",
    "remove_repeated_character(kalimat)"
   ]
  },
  {
   "cell_type": "code",
   "execution_count": 31,
   "metadata": {
    "colab": {
     "base_uri": "https://localhost:8080/",
     "height": 34
    },
    "colab_type": "code",
    "executionInfo": {
     "elapsed": 671,
     "status": "ok",
     "timestamp": 1568620367324,
     "user": {
      "displayName": "ANISA MILADYA HAKIM -",
      "photoUrl": "https://lh3.googleusercontent.com/a-/AAuE7mAxiDFPChsKSUff6d_ZwtaHRXcazNCoPnwSRHwN=s64",
      "userId": "03112180736924655103"
     },
     "user_tz": -420
    },
    "id": "4lyVV5OUAKAW",
    "outputId": "24bbfe5d-93a1-4c7e-9cba-f2c4e7d97a54"
   },
   "outputs": [
    {
     "data": {
      "text/plain": [
       "'episode kali ini ada yang bakal cerita tentang pengalaman ngerinya nih simak gue menyesal setelah terjatuh'"
      ]
     },
     "execution_count": 31,
     "metadata": {},
     "output_type": "execute_result"
    }
   ],
   "source": [
    "kalimat = \" Episode kali ini ada yang bakal cerita tentang pengalaman ngerinya nih Simak Gue menyesal setelah terjatuh \"\n",
    "casefolding(kalimat)"
   ]
  },
  {
   "cell_type": "code",
   "execution_count": 32,
   "metadata": {
    "colab": {
     "base_uri": "https://localhost:8080/",
     "height": 34
    },
    "colab_type": "code",
    "executionInfo": {
     "elapsed": 827,
     "status": "ok",
     "timestamp": 1568620368060,
     "user": {
      "displayName": "ANISA MILADYA HAKIM -",
      "photoUrl": "https://lh3.googleusercontent.com/a-/AAuE7mAxiDFPChsKSUff6d_ZwtaHRXcazNCoPnwSRHwN=s64",
      "userId": "03112180736924655103"
     },
     "user_tz": -420
    },
    "id": "3sA11tfPAKAZ",
    "outputId": "a52aadd1-3e57-4c80-9d85-1daa29e0e23d"
   },
   "outputs": [
    {
     "data": {
      "text/plain": [
       "'episode kali ini ada yang bakal cerita tentang pengalaman ngerinya ini simak saya menyesal setelah terjatuh'"
      ]
     },
     "execution_count": 32,
     "metadata": {},
     "output_type": "execute_result"
    }
   ],
   "source": [
    "kalimat = \"episode kali ini ada yang bakal cerita tentang pengalaman ngerinya nih simak gue menyesal setelah terjatuh\"\n",
    "normalize_slang_word(kalimat)"
   ]
  },
  {
   "cell_type": "code",
   "execution_count": 33,
   "metadata": {
    "colab": {
     "base_uri": "https://localhost:8080/",
     "height": 34
    },
    "colab_type": "code",
    "executionInfo": {
     "elapsed": 624,
     "status": "ok",
     "timestamp": 1568620368490,
     "user": {
      "displayName": "ANISA MILADYA HAKIM -",
      "photoUrl": "https://lh3.googleusercontent.com/a-/AAuE7mAxiDFPChsKSUff6d_ZwtaHRXcazNCoPnwSRHwN=s64",
      "userId": "03112180736924655103"
     },
     "user_tz": -420
    },
    "id": "0Qpq70iVAKAb",
    "outputId": "d6609233-f522-4503-dd01-2182d38b07cb"
   },
   "outputs": [
    {
     "data": {
      "text/plain": [
       "'episode kali ini ada yang bakal cerita tentang pengalaman ngerinya ini simak saya menyesal setelah terjatuh'"
      ]
     },
     "execution_count": 33,
     "metadata": {},
     "output_type": "execute_result"
    }
   ],
   "source": [
    "kalimat = \"episode kali ini ada yang bakal cerita tentang pengalaman ngerinya ini simak saya menyesal setelah terjatuh\"\n",
    "remove_unused_char(kalimat)"
   ]
  },
  {
   "cell_type": "code",
   "execution_count": 34,
   "metadata": {
    "colab": {
     "base_uri": "https://localhost:8080/",
     "height": 34
    },
    "colab_type": "code",
    "executionInfo": {
     "elapsed": 909,
     "status": "ok",
     "timestamp": 1568620369332,
     "user": {
      "displayName": "ANISA MILADYA HAKIM -",
      "photoUrl": "https://lh3.googleusercontent.com/a-/AAuE7mAxiDFPChsKSUff6d_ZwtaHRXcazNCoPnwSRHwN=s64",
      "userId": "03112180736924655103"
     },
     "user_tz": -420
    },
    "id": "axkR4fLOAKAe",
    "outputId": "837306bd-6678-469c-c808-26fc19d1f534"
   },
   "outputs": [
    {
     "data": {
      "text/plain": [
       "'episode kali ini ada yang bakal cerita tentang pengalaman ngerinya ini simak saya menyesal setelah terjatuh'"
      ]
     },
     "execution_count": 34,
     "metadata": {},
     "output_type": "execute_result"
    }
   ],
   "source": [
    "kalimat = \"@sabistriming: 3 Episode kali ini ada @frizareihan yang bakal cerita tentang pengalaman ngerinya nih! Simaaaaak! Gue menyesal setelah terjatuh https://t.co/bLhzV4Tqdl .. \\xf0\\x9f\\x91\\x8d\"\n",
    "preprocessing(kalimat)"
   ]
  },
  {
   "cell_type": "code",
   "execution_count": 21,
   "metadata": {
    "colab": {},
    "colab_type": "code",
    "id": "2kSe-SZiAKAj"
   },
   "outputs": [
    {
     "ename": "TypeError",
     "evalue": "expected string or bytes-like object",
     "output_type": "error",
     "traceback": [
      "\u001b[1;31m---------------------------------------------------------------------------\u001b[0m",
      "\u001b[1;31mTypeError\u001b[0m                                 Traceback (most recent call last)",
      "Input \u001b[1;32mIn [21]\u001b[0m, in \u001b[0;36m<cell line: 15>\u001b[1;34m()\u001b[0m\n\u001b[0;32m     13\u001b[0m worksheet\u001b[38;5;241m.\u001b[39mwrite_row(row, col,  \u001b[38;5;28mtuple\u001b[39m(rowHeaders))\n\u001b[0;32m     15\u001b[0m \u001b[38;5;28;01mfor\u001b[39;00m i \u001b[38;5;129;01min\u001b[39;00m tweet:\n\u001b[1;32m---> 16\u001b[0m     tweet \u001b[38;5;241m=\u001b[39m \u001b[43mpreprocessing\u001b[49m\u001b[43m(\u001b[49m\u001b[43mi\u001b[49m\u001b[43m)\u001b[49m\n\u001b[0;32m     17\u001b[0m     rowValues \u001b[38;5;241m=\u001b[39m [tweet]\n\u001b[0;32m     18\u001b[0m     row \u001b[38;5;241m+\u001b[39m\u001b[38;5;241m=\u001b[39m \u001b[38;5;241m1\u001b[39m\n",
      "Input \u001b[1;32mIn [3]\u001b[0m, in \u001b[0;36mpreprocessing\u001b[1;34m(str)\u001b[0m\n\u001b[0;32m      1\u001b[0m \u001b[38;5;28;01mdef\u001b[39;00m \u001b[38;5;21mpreprocessing\u001b[39m(\u001b[38;5;28mstr\u001b[39m):\n\u001b[1;32m----> 2\u001b[0m     \u001b[38;5;28mstr\u001b[39m \u001b[38;5;241m=\u001b[39m \u001b[43mremove_url\u001b[49m\u001b[43m(\u001b[49m\u001b[38;5;28;43mstr\u001b[39;49m\u001b[43m)\u001b[49m\n\u001b[0;32m      3\u001b[0m     \u001b[38;5;28mstr\u001b[39m \u001b[38;5;241m=\u001b[39m remove_twitter_char(\u001b[38;5;28mstr\u001b[39m)\n\u001b[0;32m      4\u001b[0m     \u001b[38;5;28mstr\u001b[39m \u001b[38;5;241m=\u001b[39m remove_digit(\u001b[38;5;28mstr\u001b[39m)\n",
      "Input \u001b[1;32mIn [2]\u001b[0m, in \u001b[0;36mremove_url\u001b[1;34m(str)\u001b[0m\n\u001b[0;32m      1\u001b[0m \u001b[38;5;28;01mdef\u001b[39;00m \u001b[38;5;21mremove_url\u001b[39m(\u001b[38;5;28mstr\u001b[39m):\n\u001b[1;32m----> 2\u001b[0m     \u001b[38;5;28mstr\u001b[39m \u001b[38;5;241m=\u001b[39m \u001b[43mre\u001b[49m\u001b[38;5;241;43m.\u001b[39;49m\u001b[43msub\u001b[49m\u001b[43m(\u001b[49m\u001b[38;5;124;43mr\u001b[39;49m\u001b[38;5;124;43m'\u001b[39;49m\u001b[38;5;124;43m(?i)\u001b[39;49m\u001b[38;5;124;43m\\\u001b[39;49m\u001b[38;5;124;43mb((?:https?://|www\u001b[39;49m\u001b[38;5;124;43m\\\u001b[39;49m\u001b[38;5;124;43md\u001b[39;49m\u001b[38;5;124;43m{\u001b[39;49m\u001b[38;5;124;43m0,3}[.]|[a-z0-9.\u001b[39;49m\u001b[38;5;124;43m\\\u001b[39;49m\u001b[38;5;124;43m-]+[.][a-z]\u001b[39;49m\u001b[38;5;124;43m{\u001b[39;49m\u001b[38;5;124;43m2,4}/)(?:[^\u001b[39;49m\u001b[38;5;124;43m\\\u001b[39;49m\u001b[38;5;124;43ms()<>]+|\u001b[39;49m\u001b[38;5;124;43m\\\u001b[39;49m\u001b[38;5;124;43m(([^\u001b[39;49m\u001b[38;5;124;43m\\\u001b[39;49m\u001b[38;5;124;43ms()<>]+|(\u001b[39;49m\u001b[38;5;124;43m\\\u001b[39;49m\u001b[38;5;124;43m([^\u001b[39;49m\u001b[38;5;124;43m\\\u001b[39;49m\u001b[38;5;124;43ms()<>]+\u001b[39;49m\u001b[38;5;124;43m\\\u001b[39;49m\u001b[38;5;124;43m)))*\u001b[39;49m\u001b[38;5;124;43m\\\u001b[39;49m\u001b[38;5;124;43m))+(?:\u001b[39;49m\u001b[38;5;124;43m\\\u001b[39;49m\u001b[38;5;124;43m(([^\u001b[39;49m\u001b[38;5;124;43m\\\u001b[39;49m\u001b[38;5;124;43ms()<>]+|(\u001b[39;49m\u001b[38;5;124;43m\\\u001b[39;49m\u001b[38;5;124;43m([^\u001b[39;49m\u001b[38;5;124;43m\\\u001b[39;49m\u001b[38;5;124;43ms()<>]+\u001b[39;49m\u001b[38;5;124;43m\\\u001b[39;49m\u001b[38;5;124;43m)))*\u001b[39;49m\u001b[38;5;124;43m\\\u001b[39;49m\u001b[38;5;124;43m)|[^\u001b[39;49m\u001b[38;5;124;43m\\\u001b[39;49m\u001b[38;5;124;43ms`!()\u001b[39;49m\u001b[38;5;124;43m\\\u001b[39;49m\u001b[38;5;124;43m[\u001b[39;49m\u001b[38;5;124;43m\\\u001b[39;49m\u001b[38;5;124;43m]\u001b[39;49m\u001b[38;5;132;43;01m{}\u001b[39;49;00m\u001b[38;5;124;43m;:\u001b[39;49m\u001b[38;5;130;43;01m\\'\u001b[39;49;00m\u001b[38;5;124;43m\"\u001b[39;49m\u001b[38;5;124;43m.,<>?«»“”‘’]))\u001b[39;49m\u001b[38;5;124;43m'\u001b[39;49m\u001b[43m,\u001b[49m\u001b[43m \u001b[49m\u001b[38;5;124;43m'\u001b[39;49m\u001b[38;5;124;43m'\u001b[39;49m\u001b[43m,\u001b[49m\u001b[43m \u001b[49m\u001b[38;5;28;43mstr\u001b[39;49m\u001b[43m)\u001b[49m\n\u001b[0;32m      3\u001b[0m     \u001b[38;5;28;01mreturn\u001b[39;00m \u001b[38;5;28mstr\u001b[39m\n",
      "File \u001b[1;32mC:\\anaconda\\lib\\re.py:210\u001b[0m, in \u001b[0;36msub\u001b[1;34m(pattern, repl, string, count, flags)\u001b[0m\n\u001b[0;32m    203\u001b[0m \u001b[38;5;28;01mdef\u001b[39;00m \u001b[38;5;21msub\u001b[39m(pattern, repl, string, count\u001b[38;5;241m=\u001b[39m\u001b[38;5;241m0\u001b[39m, flags\u001b[38;5;241m=\u001b[39m\u001b[38;5;241m0\u001b[39m):\n\u001b[0;32m    204\u001b[0m     \u001b[38;5;124;03m\"\"\"Return the string obtained by replacing the leftmost\u001b[39;00m\n\u001b[0;32m    205\u001b[0m \u001b[38;5;124;03m    non-overlapping occurrences of the pattern in string by the\u001b[39;00m\n\u001b[0;32m    206\u001b[0m \u001b[38;5;124;03m    replacement repl.  repl can be either a string or a callable;\u001b[39;00m\n\u001b[0;32m    207\u001b[0m \u001b[38;5;124;03m    if a string, backslash escapes in it are processed.  If it is\u001b[39;00m\n\u001b[0;32m    208\u001b[0m \u001b[38;5;124;03m    a callable, it's passed the Match object and must return\u001b[39;00m\n\u001b[0;32m    209\u001b[0m \u001b[38;5;124;03m    a replacement string to be used.\"\"\"\u001b[39;00m\n\u001b[1;32m--> 210\u001b[0m     \u001b[38;5;28;01mreturn\u001b[39;00m \u001b[43m_compile\u001b[49m\u001b[43m(\u001b[49m\u001b[43mpattern\u001b[49m\u001b[43m,\u001b[49m\u001b[43m \u001b[49m\u001b[43mflags\u001b[49m\u001b[43m)\u001b[49m\u001b[38;5;241;43m.\u001b[39;49m\u001b[43msub\u001b[49m\u001b[43m(\u001b[49m\u001b[43mrepl\u001b[49m\u001b[43m,\u001b[49m\u001b[43m \u001b[49m\u001b[43mstring\u001b[49m\u001b[43m,\u001b[49m\u001b[43m \u001b[49m\u001b[43mcount\u001b[49m\u001b[43m)\u001b[49m\n",
      "\u001b[1;31mTypeError\u001b[0m: expected string or bytes-like object"
     ]
    }
   ],
   "source": [
    "# melakukan preprocessing sekaligus menyimpannya dalam format file .xlsx\n",
    "data = pd.read_excel(\"data/dataset/hoax terbaru.xlsx\")\n",
    "tweet = data['tweet']\n",
    "label = data['label']\n",
    "\n",
    "workbook = xlsxwriter.Workbook('data/clean/cleanhoax__.xlsx')\n",
    "worksheet = workbook.add_worksheet()\n",
    "\n",
    "row = 0\n",
    "col = 0\n",
    "\n",
    "rowHeaders = ['tweet', 'label']\n",
    "worksheet.write_row(row, col,  tuple(rowHeaders))\n",
    "\n",
    "for i in tweet:\n",
    "    tweet = preprocessing(i)\n",
    "    rowValues = [tweet]\n",
    "    row += 1\n",
    "    worksheet.write_row(row, col, tuple(rowValues))\n",
    "\n",
    "row = 0\n",
    "for l in label:\n",
    "    label = l\n",
    "    rowValues = [label]\n",
    "    row += 1 \n",
    "    worksheet.write_row(row, col + 1, tuple(rowValues))\n",
    "\n",
    "workbook.close()"
   ]
  },
  {
   "cell_type": "code",
   "execution_count": 40,
   "metadata": {
    "colab": {},
    "colab_type": "code",
    "id": "kHWOwX7pAKAg"
   },
   "outputs": [
    {
     "ename": "TypeError",
     "evalue": "expected string or bytes-like object",
     "output_type": "error",
     "traceback": [
      "\u001b[1;31m---------------------------------------------------------------------------\u001b[0m",
      "\u001b[1;31mTypeError\u001b[0m                                 Traceback (most recent call last)",
      "Input \u001b[1;32mIn [40]\u001b[0m, in \u001b[0;36m<cell line: 14>\u001b[1;34m()\u001b[0m\n\u001b[0;32m     12\u001b[0m worksheet\u001b[38;5;241m.\u001b[39mwrite_row(row, col,  \u001b[38;5;28mtuple\u001b[39m(rowHeaders))\n\u001b[0;32m     14\u001b[0m \u001b[38;5;28;01mfor\u001b[39;00m i \u001b[38;5;129;01min\u001b[39;00m tweet:\n\u001b[1;32m---> 15\u001b[0m     tweet \u001b[38;5;241m=\u001b[39m \u001b[43mpreprocessing\u001b[49m\u001b[43m(\u001b[49m\u001b[43mi\u001b[49m\u001b[43m)\u001b[49m\n\u001b[0;32m     16\u001b[0m     rowValues \u001b[38;5;241m=\u001b[39m [tweet]\n\u001b[0;32m     17\u001b[0m     row \u001b[38;5;241m+\u001b[39m\u001b[38;5;241m=\u001b[39m \u001b[38;5;241m1\u001b[39m\n",
      "Input \u001b[1;32mIn [39]\u001b[0m, in \u001b[0;36mpreprocessing\u001b[1;34m(str)\u001b[0m\n\u001b[0;32m      1\u001b[0m \u001b[38;5;28;01mdef\u001b[39;00m \u001b[38;5;21mpreprocessing\u001b[39m(\u001b[38;5;28mstr\u001b[39m):\n\u001b[1;32m----> 2\u001b[0m     \u001b[38;5;28mstr\u001b[39m \u001b[38;5;241m=\u001b[39m \u001b[43mremove_digit\u001b[49m\u001b[43m(\u001b[49m\u001b[38;5;28;43mstr\u001b[39;49m\u001b[43m)\u001b[49m\n\u001b[0;32m      3\u001b[0m     \u001b[38;5;28mstr\u001b[39m \u001b[38;5;241m=\u001b[39m remove_url(\u001b[38;5;28mstr\u001b[39m)\n\u001b[0;32m      4\u001b[0m     \u001b[38;5;28mstr\u001b[39m \u001b[38;5;241m=\u001b[39m remove_twitter_char(\u001b[38;5;28mstr\u001b[39m)    \n",
      "Input \u001b[1;32mIn [38]\u001b[0m, in \u001b[0;36mremove_digit\u001b[1;34m(str)\u001b[0m\n\u001b[0;32m      5\u001b[0m \u001b[38;5;28;01mdef\u001b[39;00m \u001b[38;5;21mremove_digit\u001b[39m(\u001b[38;5;28mstr\u001b[39m):\n\u001b[1;32m----> 6\u001b[0m     \u001b[38;5;28mstr\u001b[39m \u001b[38;5;241m=\u001b[39m \u001b[43mre\u001b[49m\u001b[38;5;241;43m.\u001b[39;49m\u001b[43msub\u001b[49m\u001b[43m(\u001b[49m\u001b[38;5;124;43m'\u001b[39;49m\u001b[38;5;124;43m [^a-zA-Z] \u001b[39;49m\u001b[38;5;124;43m'\u001b[39;49m\u001b[43m,\u001b[49m\u001b[43m \u001b[49m\u001b[38;5;124;43m'\u001b[39;49m\u001b[38;5;124;43m'\u001b[39;49m\u001b[43m,\u001b[49m\u001b[43m \u001b[49m\u001b[38;5;28;43mstr\u001b[39;49m\u001b[43m)\u001b[49m\n\u001b[0;32m      7\u001b[0m     \u001b[38;5;28;01mreturn\u001b[39;00m \u001b[38;5;28mstr\u001b[39m\n",
      "File \u001b[1;32mC:\\anaconda\\lib\\re.py:210\u001b[0m, in \u001b[0;36msub\u001b[1;34m(pattern, repl, string, count, flags)\u001b[0m\n\u001b[0;32m    203\u001b[0m \u001b[38;5;28;01mdef\u001b[39;00m \u001b[38;5;21msub\u001b[39m(pattern, repl, string, count\u001b[38;5;241m=\u001b[39m\u001b[38;5;241m0\u001b[39m, flags\u001b[38;5;241m=\u001b[39m\u001b[38;5;241m0\u001b[39m):\n\u001b[0;32m    204\u001b[0m     \u001b[38;5;124;03m\"\"\"Return the string obtained by replacing the leftmost\u001b[39;00m\n\u001b[0;32m    205\u001b[0m \u001b[38;5;124;03m    non-overlapping occurrences of the pattern in string by the\u001b[39;00m\n\u001b[0;32m    206\u001b[0m \u001b[38;5;124;03m    replacement repl.  repl can be either a string or a callable;\u001b[39;00m\n\u001b[0;32m    207\u001b[0m \u001b[38;5;124;03m    if a string, backslash escapes in it are processed.  If it is\u001b[39;00m\n\u001b[0;32m    208\u001b[0m \u001b[38;5;124;03m    a callable, it's passed the Match object and must return\u001b[39;00m\n\u001b[0;32m    209\u001b[0m \u001b[38;5;124;03m    a replacement string to be used.\"\"\"\u001b[39;00m\n\u001b[1;32m--> 210\u001b[0m     \u001b[38;5;28;01mreturn\u001b[39;00m \u001b[43m_compile\u001b[49m\u001b[43m(\u001b[49m\u001b[43mpattern\u001b[49m\u001b[43m,\u001b[49m\u001b[43m \u001b[49m\u001b[43mflags\u001b[49m\u001b[43m)\u001b[49m\u001b[38;5;241;43m.\u001b[39;49m\u001b[43msub\u001b[49m\u001b[43m(\u001b[49m\u001b[43mrepl\u001b[49m\u001b[43m,\u001b[49m\u001b[43m \u001b[49m\u001b[43mstring\u001b[49m\u001b[43m,\u001b[49m\u001b[43m \u001b[49m\u001b[43mcount\u001b[49m\u001b[43m)\u001b[49m\n",
      "\u001b[1;31mTypeError\u001b[0m: expected string or bytes-like object"
     ]
    }
   ],
   "source": [
    "# melakukan preprocessing sekaligus menyimpannya dalam format file .xlsx\n",
    "data = pd.read_excel(\"data/dataset/preprocessing.xlsx\")\n",
    "tweet = data['tweet']\n",
    "\n",
    "workbook = xlsxwriter.Workbook('data/clean/cleanprocessing.xlsx')\n",
    "worksheet = workbook.add_worksheet()\n",
    "\n",
    "row = 0\n",
    "col = 0\n",
    "\n",
    "rowHeaders = ['tweet']\n",
    "worksheet.write_row(row, col,  tuple(rowHeaders))\n",
    "\n",
    "for i in tweet:\n",
    "    tweet = preprocessing(i)\n",
    "    rowValues = [tweet]\n",
    "    row += 1\n",
    "    worksheet.write_row(row, col, tuple(rowValues))\n",
    "\n",
    "workbook.close()"
   ]
  },
  {
   "cell_type": "code",
   "execution_count": null,
   "metadata": {
    "colab": {},
    "colab_type": "code",
    "id": "OYsIlm3uAKAm"
   },
   "outputs": [],
   "source": []
  }
 ],
 "metadata": {
  "accelerator": "GPU",
  "colab": {
   "collapsed_sections": [],
   "name": "preprocessing.ipynb",
   "provenance": [],
   "version": "0.3.2"
  },
  "kernelspec": {
   "display_name": "Python 3 (ipykernel)",
   "language": "python",
   "name": "python3"
  },
  "language_info": {
   "codemirror_mode": {
    "name": "ipython",
    "version": 3
   },
   "file_extension": ".py",
   "mimetype": "text/x-python",
   "name": "python",
   "nbconvert_exporter": "python",
   "pygments_lexer": "ipython3",
   "version": "3.9.12"
  }
 },
 "nbformat": 4,
 "nbformat_minor": 4
}
